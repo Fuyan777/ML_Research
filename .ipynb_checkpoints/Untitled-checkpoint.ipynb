{
 "cells": [
  {
   "cell_type": "code",
   "execution_count": 1,
   "id": "separated-designer",
   "metadata": {},
   "outputs": [],
   "source": [
    "from pprint import pprint\n",
    "import pandas as pd\n",
    "import matplotlib.pyplot as plt\n",
    "import file_path\n",
    "import warnings\n",
    "import common\n",
    "# SettingWithCopyWarningの非表示\n",
    "warnings.simplefilter(\"ignore\")\n",
    "\n",
    "#\n",
    "# パラメータ変更\n",
    "#\n",
    "\n",
    "# 被験者の種類\n",
    "user = \"a\"\n",
    "\n",
    "# ウィンドウサイズの設定w（0.033 : 0.5秒先=15, 1秒=30, 2秒=60, 3秒=90, 5秒=150 ）\n",
    "\n",
    "# ウィンドウサイズの設定w（0.083 : 0.5秒先=6, 1秒=12, 2秒=24, 3秒=36, 5秒=60 ）\n",
    "window_size = 4\n",
    "\n",
    "# 予測フレームシフトの設定s（ 0.5秒先=6, 1秒=12, 2秒=24, 3秒=36, 5秒=60 ）\n",
    "pre_speak_time = 6\n",
    "\n",
    "# 予測時間の設定\n",
    "speak = \"0.1w_0.5s\"\n",
    "\n",
    "# サンプル数を揃える\n",
    "speak_data_count = 1000\n",
    "\n",
    "# 顔特徴csvのpath設定\n",
    "face_data_path = \"a-20210128\"\n",
    "\n",
    "# overlapの計算\n",
    "shift_size = (window_size // 2) - 1\n",
    "\n",
    "columns = [\n",
    "    \" gaze_angle_x\",\n",
    "    \" gaze_angle_y\",\n",
    "    \" pose_Tx\",\n",
    "    \" pose_Ty\",\n",
    "    \" pose_Tz\",\n",
    "    \" pose_Rx\",\n",
    "    \" pose_Ry\",\n",
    "    \" pose_Rz\",\n",
    "    \"mouth\",\n",
    "    \"y\",\n",
    "]"
   ]
  },
  {
   "cell_type": "code",
   "execution_count": null,
   "id": "fifty-costa",
   "metadata": {},
   "outputs": [],
   "source": []
  }
 ],
 "metadata": {
  "kernelspec": {
   "display_name": "Python 3",
   "language": "python",
   "name": "python3"
  },
  "language_info": {
   "codemirror_mode": {
    "name": "ipython",
    "version": 3
   },
   "file_extension": ".py",
   "mimetype": "text/x-python",
   "name": "python",
   "nbconvert_exporter": "python",
   "pygments_lexer": "ipython3",
   "version": "3.8.5"
  }
 },
 "nbformat": 4,
 "nbformat_minor": 5
}
